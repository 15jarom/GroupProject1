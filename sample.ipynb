{
 "cells": [
  {
   "cell_type": "code",
   "execution_count": null,
   "id": "58a2c269-3158-4ef1-aecb-4adc0037e836",
   "metadata": {},
   "outputs": [],
   "source": [
    "import tkinter as tk \n",
    "#from tkinter import ttk\n",
    "import ttkbootstrap as ttk\n",
    "\n",
    "def convert():\n",
    "    SPY_close = entry_int.get()\n",
    "    prediction_output = 'jacquelin'\n",
    "    output_string.set(prediction_output)\n",
    "\n",
    "# window \n",
    "window = tk.Tk()\n",
    "window.title ('Demo')\n",
    "window.geometry('500x200')\n",
    "#title \n",
    "title_label =ttk.Label(master=window, text = 'Put Down Flat',font = 'calibri 24 bold')\n",
    "title_label.pack()\n",
    "# input field \n",
    "input_frame = ttk.Frame(master = window)\n",
    "entry_int = tk.IntVar()\n",
    "entry = ttk.Entry(master =input_frame, textvariable = entry_int)\n",
    "button = ttk.Button(master = input_frame,text = 'prediction', command = convert )\n",
    "entry.pack(side = 'left',padx = 10)\n",
    "button.pack(side = 'left')\n",
    "input_frame.pack(pady = 10)\n",
    "\n",
    "# output \n",
    "output_string = tk.StringVar()\n",
    "output_label = ttk.Label(\n",
    "    master = window,\n",
    "    text = 'Output',\n",
    "    font = 'Calibri 24', \n",
    "    textvariable = output_string)\n",
    "output_label.pack(pady = 5)\n",
    "# run\n",
    "window.mainloop()"
   ]
  },
  {
   "cell_type": "markdown",
   "id": "a800cfb2-88b9-4eab-be65-283e8163f727",
   "metadata": {},
   "source": []
  }
 ],
 "metadata": {
  "kernelspec": {
   "display_name": "Python 3 (ipykernel)",
   "language": "python",
   "name": "python3"
  },
  "language_info": {
   "codemirror_mode": {
    "name": "ipython",
    "version": 3
   },
   "file_extension": ".py",
   "mimetype": "text/x-python",
   "name": "python",
   "nbconvert_exporter": "python",
   "pygments_lexer": "ipython3",
   "version": "3.11.5"
  }
 },
 "nbformat": 4,
 "nbformat_minor": 5
}
