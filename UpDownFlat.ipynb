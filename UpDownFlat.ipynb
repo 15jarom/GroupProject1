{
 "cells": [
  {
   "cell_type": "code",
   "execution_count": null,
   "id": "4644a4a8-4982-4be7-b9a4-2070032f319a",
   "metadata": {},
   "outputs": [],
   "source": [
    "# Import libraries and dependencies\n",
    "import numpy as np\n",
    "import pandas as pd\n",
    "import os\n",
    "import requests\n",
    "from MCForecastTools import MCSimulation\n",
    "from pathlib import Path\n",
    "%matplotlib inline\n",
    "from sklearn.model_selection import train_test_split\n",
    "from sklearn.linear_model import LinearRegression\n",
    "from sklearn.metrics import r2_score\n",
    "import matplotlib.pyplot as plt\n",
    "import seaborn as sns\n",
    "import warnings\n",
    "warnings.filterwarnings(\"ignore\")"
   ]
  },
  {
   "cell_type": "code",
   "execution_count": null,
   "id": "59951fd0-e0c2-4751-8ce8-4435800d5b03",
   "metadata": {},
   "outputs": [],
   "source": [
    "# Import API data\n",
    "from dotenv import load_dotenv\n",
    "import alpaca_trade_api as tradeapi"
   ]
  },
  {
   "cell_type": "code",
   "execution_count": null,
   "id": "6fc81a42-5da7-42dc-ae4a-72aaec7f9132",
   "metadata": {},
   "outputs": [],
   "source": [
    "# Load .env enviroment variables\n",
    "load_dotenv(\"ProjectAPI.env\")"
   ]
  },
  {
   "cell_type": "code",
   "execution_count": null,
   "id": "a3a08008",
   "metadata": {},
   "outputs": [],
   "source": [
    "# Set the tickers\n",
    "tickers = [\"SPY\", \"IWM\", \"EZU\", \"EWU\", \"EWJ\", \"EWZ\", \"EWA\", \"EWC\", \"MCHI\", \"EWW\"]\n",
    "\n",
    "# Create the shares DataFrame\n",
    "df_etf = pd.DataFrame(index=tickers)"
   ]
  },
  {
   "cell_type": "code",
   "execution_count": null,
   "id": "59eb40f7",
   "metadata": {},
   "outputs": [],
   "source": [
    "# Set Alpaca API key and secret\n",
    "alpaca_api_key = os.getenv(\"Alpaca_API_Key\")\n",
    "alpaca_secret_key = os.getenv(\"Alpaca_Secret_Key\")\n",
    "\n",
    "# Verify that Alpaca key and secret were correctly loaded\n",
    "print(f\"Alpaca Key type: {type(alpaca_api_key)}\")\n",
    "print(f\"Alpaca Secret Key type: {type(alpaca_secret_key)}\")"
   ]
  },
  {
   "cell_type": "code",
   "execution_count": null,
   "id": "1d103725",
   "metadata": {},
   "outputs": [],
   "source": [
    "# Create the Alpaca API object\n",
    "alpaca = tradeapi.REST(\n",
    "    alpaca_api_key,\n",
    "    alpaca_secret_key,\n",
    "    api_version=\"v2\")"
   ]
  },
  {
   "cell_type": "code",
   "execution_count": null,
   "id": "361c0f45",
   "metadata": {},
   "outputs": [],
   "source": [
    "# Format current date as ISO format\n",
    "# Set start and end datetimes of 18 months\n",
    "start_date = pd.Timestamp(\"2022-04-01\", tz=\"America/New_York\").isoformat()\n",
    "end_date = pd.Timestamp(\"2023-10-01\", tz=\"America/New_York\").isoformat()"
   ]
  },
  {
   "cell_type": "code",
   "execution_count": null,
   "id": "4b7a963c",
   "metadata": {},
   "outputs": [],
   "source": [
    "# Set timeframe to 18 months for the Alpaca API\n",
    "timeframe = \"1Day\""
   ]
  },
  {
   "cell_type": "markdown",
   "id": "e9c228b5",
   "metadata": {},
   "source": [
    "# Get 12 months of price data for etf portfolio\n",
    "df_portfolio = alpaca.get_bars(\n",
    "    tickers,\n",
    "    timeframe,\n",
    "    start = start_date,\n",
    "    end = end_date\n",
    ").df\n",
    "\n",
    "df_portfolio"
   ]
  },
  {
   "cell_type": "code",
   "execution_count": null,
   "id": "937772d7-750d-438a-8d34-964310ec48be",
   "metadata": {},
   "outputs": [],
   "source": [
    "#Drop unnecessary columns for our portfolio dataframe\n",
    "df_portfolio.drop(columns=['high','low','trade_count','vwap'], axis=1, inplace=True)\n",
    "\n",
    "#Rearrange columns\n",
    "df_portfolio = df_portfolio[['symbol', 'close', 'open', 'volume']]\n",
    "\n",
    "df_portfolio"
   ]
  },
  {
   "cell_type": "code",
   "execution_count": null,
   "id": "534a1df3",
   "metadata": {},
   "outputs": [],
   "source": [
    "# Reorganize the DataFrame and separate ticker data\n",
    "# Order:  SPY, EWA, EWC, EWJ, EWU, EWZ, EWW, EZU, IWM, MCHI\n",
    "\n",
    "# Separate ticker data\n",
    "SPY = df_portfolio[df_portfolio[\"symbol\"]==\"SPY\"].drop(\"symbol\", axis=1)\n",
    "EWA = df_portfolio[df_portfolio[\"symbol\"]==\"EWA\"].drop(\"symbol\", axis=1)\n",
    "EWC = df_portfolio[df_portfolio[\"symbol\"]==\"EWC\"].drop(\"symbol\", axis=1)\n",
    "EWJ = df_portfolio[df_portfolio[\"symbol\"]==\"EWJ\"].drop(\"symbol\", axis=1)\n",
    "EWU = df_portfolio[df_portfolio[\"symbol\"]==\"EWU\"].drop(\"symbol\", axis=1)\n",
    "EWZ = df_portfolio[df_portfolio[\"symbol\"]==\"EWZ\"].drop(\"symbol\", axis=1)\n",
    "EWW = df_portfolio[df_portfolio[\"symbol\"]==\"EWW\"].drop(\"symbol\", axis=1)\n",
    "EZU = df_portfolio[df_portfolio[\"symbol\"]==\"EZU\"].drop(\"symbol\", axis=1)\n",
    "IWM = df_portfolio[df_portfolio[\"symbol\"]==\"IWM\"].drop(\"symbol\", axis=1)\n",
    "MCHI = df_portfolio[df_portfolio[\"symbol\"]==\"MCHI\"].drop(\"symbol\", axis=1)\n",
    "\n",
    "# Concatenate the ticker DataFrames\n",
    "df_portreo = pd.concat([SPY, EWA, EWC, EWJ, EWU, EWZ, EWW, EZU, IWM, MCHI], axis=1, keys=['SPY', 'EWA', 'EWC', 'EWJ', 'EWU', 'EWZ', 'EWW', 'EZU', 'IWM', 'MCHI'])\n",
    "\n",
    "# Display sample data\n",
    "df_portreo"
   ]
  },
  {
   "cell_type": "code",
   "execution_count": null,
   "id": "fd2eb14d",
   "metadata": {},
   "outputs": [],
   "source": [
    "#Export clean dataframe to .csv file for backup\n",
    "#df_portfolio.to_csv('UpDownFlat.csv')\n",
    "\n",
    "df_portreo.to_csv(r'Desktop\\UpDownFlatData.csv')"
   ]
  },
  {
   "cell_type": "code",
   "execution_count": null,
   "id": "5432d718-1af5-40d0-8b12-b18a5a7352fc",
   "metadata": {},
   "outputs": [],
   "source": [
    "#Create the Monte Carlo Simulation for the next day\n",
    "MC_df = df_portreo[\"SPY\", \"IWM\", \"EZU\", \"EWU\", \"EWJ\", \"EWZ\", \"EWA\", \"EWC\", \"MCHI\", \"EWW\"]\n",
    "\n",
    "monte_predict = MCSimulation(\n",
    "    portfolio_data = MC_df,\n",
    "    weights = [.1,.1,.1,.1,.1,.1,.1,.1,.1,.1],\n",
    "    num_simulation = 1000,\n",
    "    num_trading_days = 1\n",
    ")\n",
    "\n",
    "#Check it worked\n",
    "MC_df.portfolio_data.head()"
   ]
  },
  {
   "cell_type": "code",
   "execution_count": null,
   "id": "e6433f8e-e0f5-4400-bf99-c4c7747e2453",
   "metadata": {},
   "outputs": [],
   "source": [
    "# Run a Monte Carlo simulation to forecast tomorrow's movement\n",
    "MC_df.calc_cumulative_return()"
   ]
  },
  {
   "cell_type": "code",
   "execution_count": null,
   "id": "19b0de96-daf6-4505-a45d-369298b6a439",
   "metadata": {},
   "outputs": [],
   "source": [
    "#Show what the prediction average and std are to give an idea of tomorrow's likelyhood of up/down\n",
    "MC_tbl = MC_df.summarize_cumulative_return()\n",
    "MC_tbl"
   ]
  },
  {
   "cell_type": "code",
   "execution_count": null,
   "id": "bf3658a6-9949-4f60-9fd3-bd52fa60cf35",
   "metadata": {},
   "outputs": [],
   "source": [
    "#based on the table output, display the mean and 1.5 std up and down to show the target outcomes.\n"
   ]
  },
  {
   "cell_type": "code",
   "execution_count": null,
   "id": "4ee2f568-f253-4f0e-8daa-5cfd54704c2d",
   "metadata": {},
   "outputs": [],
   "source": []
  },
  {
   "cell_type": "code",
   "execution_count": null,
   "id": "e2f6be8d-7836-4e19-b77f-004b64eceed4",
   "metadata": {},
   "outputs": [],
   "source": [
    "#define variables for regression\n",
    "\n",
    "X=df_portfolio[[\"IWM\", \"EZU\", \"EWU\", \"EWJ\", \"EWZ\", \"EWA\", \"EWC\", \"MCHI\", \"EWW\"]]\n",
    "\n",
    "y=df_portfolio['SPY']"
   ]
  },
  {
   "cell_type": "code",
   "execution_count": null,
   "id": "b401037e-2610-435f-bba7-f278596eb8f0",
   "metadata": {},
   "outputs": [],
   "source": [
    "#set up test and train section of the df\n",
    "X_train,X_test, y_train, y_test = train_test_split(X, y, test_size = 0.1, random_state = 0)"
   ]
  },
  {
   "cell_type": "code",
   "execution_count": null,
   "id": "ec190343-248c-4323-b5ae-b4b5c5c835da",
   "metadata": {},
   "outputs": [],
   "source": [
    "#run regression and predict\n",
    "reg = LinearRegression()\n",
    " \n",
    "# Fit the model to the data\n",
    "reg_model = LinearRegression().fit(X_train, y_train)\n",
    "\n",
    "# Print the coefficients of the model to determine influences on X\n",
    "coeffs = reg_model.coef_\n",
    "ticks = [\"IWM\", \"EZU\", \"EWU\", \"EWJ\", \"EWZ\", \"EWA\", \"EWC\", \"MCHI\", \"EWW\"]\n",
    "count = 0\n",
    "for t in coeffs:\n",
    "    print(f\"{ticks[count]} beta is {round(coeffs[count],4)}\")\n",
    "    count +=1"
   ]
  },
  {
   "cell_type": "code",
   "execution_count": null,
   "id": "06257386-0a5d-4698-832b-d16be388f083",
   "metadata": {},
   "outputs": [],
   "source": [
    "#Predicting the Test and Train set result \n",
    "\n",
    "y_pred= reg_model.predict(X_test)  \n",
    "x_pred= reg_model.predict(X_train)\n",
    "\n",
    "#finding the difference between predicted and actual values- for reference of predictive accuracy of model\n",
    "reg_model_diff = pd.DataFrame({'Actual value': y_test, 'Predicted value': y_pred})\n",
    "reg_model_diff.plot(figsize=(20,10))"
   ]
  },
  {
   "cell_type": "code",
   "execution_count": null,
   "id": "052384bf",
   "metadata": {},
   "outputs": [],
   "source": [
    "#display the regression output into the GUI for analysis\n"
   ]
  },
  {
   "cell_type": "code",
   "execution_count": null,
   "id": "c54e230d",
   "metadata": {},
   "outputs": [],
   "source": [
    "\n"
   ]
  }
 ],
 "metadata": {
  "kernelspec": {
   "display_name": "Python 3 (ipykernel)",
   "language": "python",
   "name": "python3"
  },
  "language_info": {
   "codemirror_mode": {
    "name": "ipython",
    "version": 3
   },
   "file_extension": ".py",
   "mimetype": "text/x-python",
   "name": "python",
   "nbconvert_exporter": "python",
   "pygments_lexer": "ipython3",
   "version": "3.10.13"
  }
 },
 "nbformat": 4,
 "nbformat_minor": 5
}
