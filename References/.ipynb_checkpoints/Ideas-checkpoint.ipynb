{
 "cells": [
  {
   "cell_type": "code",
   "execution_count": 1,
   "id": "fd7504c2-3218-435a-a553-bedf6f2c3f59",
   "metadata": {},
   "outputs": [],
   "source": [
    "#  Creating a graphical menu using the tkinter (\"tee-kinter\") library\n",
    "\n",
    "##  TUTORIAL VIDEO\n",
    "##  https://www.youtube.com/watch?v=OfAqWspoBb4\n",
    "\n",
    "import tkinter as tk\n",
    "from tkinter import ttk\n"
   ]
  },
  {
   "cell_type": "code",
   "execution_count": 9,
   "id": "7a53bcca-fd57-4110-9f05-becaf2056e96",
   "metadata": {
    "tags": []
   },
   "outputs": [],
   "source": [
    "# Create a basic window\n",
    "window = tk.Tk()   # Warning, this is CaSe SenSitiVe!\n",
    "\n",
    "# Show this basic window\n",
    "window.mainloop()\n",
    "\n"
   ]
  },
  {
   "cell_type": "code",
   "execution_count": 12,
   "id": "3d6c3b82-cacf-4ddc-8236-aa216de0b715",
   "metadata": {
    "tags": []
   },
   "outputs": [],
   "source": [
    "# Create a basic window\n",
    "window = tk.Tk()   # Warning, this is CaSe SenSitiVe!\n",
    "\n",
    "# Add a title to the window\n",
    "window.title(\"My First GUI Application\")\n",
    "\n",
    "# Adjust the size of the window to 600 x 450 pixels\n",
    "window.geometry('600x450')\n",
    "\n",
    "# Show the window\n",
    "window.mainloop()"
   ]
  },
  {
   "cell_type": "code",
   "execution_count": 14,
   "id": "d0af3601-f206-43c5-9a8f-2f00e20f7d86",
   "metadata": {
    "tags": []
   },
   "outputs": [],
   "source": [
    "# Create a basic window\n",
    "window = tk.Tk()   # Warning, this is CaSe SenSitiVe!\n",
    "\n",
    "# Add a title to the window\n",
    "window.title(\"My First GUI Application\")\n",
    "\n",
    "# Adjust the size of the window to 600 x 450 pixels\n",
    "window.geometry('600x450')\n",
    "\n",
    "# Add a label inside the window\n",
    "title_label = ttk.Label(master = window, text = 'Bitcoin to USD Converter', font = 'Calibri 24')\n",
    "title_label.pack()\n",
    "\n",
    "# Show the window\n",
    "window.mainloop()"
   ]
  },
  {
   "cell_type": "code",
   "execution_count": 19,
   "id": "0a121c8a-c0a3-4376-b607-e5e738e2f396",
   "metadata": {
    "tags": []
   },
   "outputs": [],
   "source": [
    "# Create a basic window\n",
    "window = tk.Tk()   # Warning, this is CaSe SenSitiVe!\n",
    "\n",
    "# Add a title to the window\n",
    "window.title(\"My First GUI Application\")\n",
    "\n",
    "# Adjust the size of the window to 600 x 450 pixels\n",
    "window.geometry('600x450')\n",
    "\n",
    "# Add a label inside the window\n",
    "title_label = ttk.Label(master = window, text = 'Bitcoin to USD Converter', font = 'Calibri 24')\n",
    "title_label.pack()\n",
    "\n",
    "# Add input field\n",
    "input_frame = ttk.Frame(master = window)  ## Frame where we will put the input field\n",
    "entry = ttk.Entry(master = input_frame)  # Entry widget\n",
    "button = ttk.Button(master = input_frame, text = 'Convert')  # Button widget\n",
    "entry.pack()\n",
    "button.pack()\n",
    "input_frame.pack()\n",
    "\n",
    "\n",
    "# Show the window\n",
    "window.mainloop()"
   ]
  },
  {
   "cell_type": "code",
   "execution_count": null,
   "id": "ef3f20bf-6274-47ee-b0b3-34a34f2ec896",
   "metadata": {},
   "outputs": [],
   "source": []
  }
 ],
 "metadata": {
  "kernelspec": {
   "display_name": "Python 3 (ipykernel)",
   "language": "python",
   "name": "python3"
  },
  "language_info": {
   "codemirror_mode": {
    "name": "ipython",
    "version": 3
   },
   "file_extension": ".py",
   "mimetype": "text/x-python",
   "name": "python",
   "nbconvert_exporter": "python",
   "pygments_lexer": "ipython3",
   "version": "3.10.13"
  }
 },
 "nbformat": 4,
 "nbformat_minor": 5
}
