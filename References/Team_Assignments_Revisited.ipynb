{
 "cells": [
  {
   "cell_type": "code",
   "execution_count": 3,
   "id": "f3fa0de1-a383-4806-bafe-f48aa940cf37",
   "metadata": {
    "tags": []
   },
   "outputs": [
    {
     "name": "stdout",
     "output_type": "stream",
     "text": [
      "Captain Kerim - Team Members: ['Emmanuel', 'Daniela', 'Jahun']\n",
      "Captain Jarom - Team Members: ['Jonathan', 'Khareem', 'Jacqueline']\n"
     ]
    }
   ],
   "source": [
    "##########################\n",
    "# TEAM RANDOM ASSIGNMENTS\n",
    "##########################\n",
    "\n",
    "# Import libraries\n",
    "import random\n",
    "\n",
    "# Declare variables \n",
    "\n",
    "captain_list = [\"Jarom\", \"Kerim\"]\n",
    "participant_list = [\"Daniela\", \"Jacqueline\", \"Jonathan\", \"Khareem\", \"Jahun\", \"Emmanuel\"]   # Pending DeVon\n",
    "team_list = []\n",
    "\n",
    "number_of_teams = 2\n",
    "\n",
    "participant_count = len(participant_list)\n",
    "\n",
    "# Loop a number of times until all teams have been formed\n",
    "while participant_count > 0 and number_of_teams > 0:\n",
    "    \n",
    "    cap_index = number_of_teams - 1\n",
    "    # Randomly assign players to teams\n",
    "    team = random.sample(participant_list, int(participant_count/number_of_teams))\n",
    "    team_list.append(team)\n",
    "    print(f\"Captain {captain_list[cap_index]} - Team Members: {team}\")\n",
    "    #print(team)\n",
    "    \n",
    "    \n",
    "    # Remove already selected participant from initial list\n",
    "    for selected_team_member in team:\n",
    "        participant_list.remove(selected_team_member)\n",
    "        # Also decrease count of participants (to stop the \"while\" loop when it reaches zero)\n",
    "        participant_count -= 1\n",
    "\n",
    "    # Outside of for loop, decrease count of needed teams by 1 (to stop the \"while\" loop when it reaches zero)\n",
    "    number_of_teams -= 1\n",
    "\n"
   ]
  },
  {
   "cell_type": "code",
   "execution_count": 1,
   "id": "cbf450ec-1603-4cfc-8fc5-5e7965c768b9",
   "metadata": {
    "tags": []
   },
   "outputs": [
    {
     "ename": "NameError",
     "evalue": "name 'team_list' is not defined",
     "output_type": "error",
     "traceback": [
      "\u001b[1;31m---------------------------------------------------------------------------\u001b[0m",
      "\u001b[1;31mNameError\u001b[0m                                 Traceback (most recent call last)",
      "Cell \u001b[1;32mIn[1], line 11\u001b[0m\n\u001b[0;32m      8\u001b[0m count \u001b[38;5;241m=\u001b[39m \u001b[38;5;241m0\u001b[39m\n\u001b[0;32m     10\u001b[0m \u001b[38;5;66;03m# Iterate through each team form to assign a random name\u001b[39;00m\n\u001b[1;32m---> 11\u001b[0m \u001b[38;5;28;01mfor\u001b[39;00m team \u001b[38;5;129;01min\u001b[39;00m \u001b[43mteam_list\u001b[49m:\n\u001b[0;32m     12\u001b[0m     count \u001b[38;5;241m+\u001b[39m\u001b[38;5;241m=\u001b[39m \u001b[38;5;241m1\u001b[39m\n\u001b[0;32m     14\u001b[0m     \u001b[38;5;66;03m# Assign a random team name\u001b[39;00m\n",
      "\u001b[1;31mNameError\u001b[0m: name 'team_list' is not defined"
     ]
    }
   ],
   "source": [
    "##########################\n",
    "# TEAM RANDOM NAMES\n",
    "##########################\n",
    "\n",
    "# Declare variables \n",
    "team_adjetives = [\"Striking\", \"Kung Fu\", \"Expensive\", \"Frugal\", \"Furious\", \"Electric\", \"Frantic\", \"Random\", \"Bouncing\"]\n",
    "team_nouns = [\"Pirates\", \"Gators\", \"Pythons\", \"Rangers\", \"Panthers\", \"Cobras\", \"Analysts\", \"Ballers\"]\n",
    "count = 0\n",
    "\n",
    "# Iterate through each team form to assign a random name\n",
    "for team in team_list:\n",
    "    count += 1\n",
    "    \n",
    "    # Assign a random team name\n",
    "    selected_adjective = random.sample(team_adjetives,len(team_adjetives))\n",
    "    selected_noun = random.sample(team_nouns,len(team_nouns))\n",
    "    team_name = selected_adjective[0] + \" \" + selected_noun[0]\n",
    "    \n",
    "    # Remove already selected adjective and noun from initial list, to avoid duplicates\n",
    "    team_adjetives.remove(selected_adjective[0])\n",
    "    team_nouns.remove(selected_noun[0])\n",
    "    \n",
    "    print(f\"Team {captain_list[count-1]} {team} has been named: {team_name}!!\")\n"
   ]
  },
  {
   "cell_type": "code",
   "execution_count": null,
   "id": "08d9bfb3-35e8-474e-ac3b-8c98914b7f87",
   "metadata": {},
   "outputs": [],
   "source": []
  },
  {
   "cell_type": "code",
   "execution_count": null,
   "id": "8377e431-934e-41c0-b158-9318b56375c1",
   "metadata": {},
   "outputs": [],
   "source": []
  }
 ],
 "metadata": {
  "kernelspec": {
   "display_name": "Python 3 (ipykernel)",
   "language": "python",
   "name": "python3"
  },
  "language_info": {
   "codemirror_mode": {
    "name": "ipython",
    "version": 3
   },
   "file_extension": ".py",
   "mimetype": "text/x-python",
   "name": "python",
   "nbconvert_exporter": "python",
   "pygments_lexer": "ipython3",
   "version": "3.12.0"
  }
 },
 "nbformat": 4,
 "nbformat_minor": 5
}
